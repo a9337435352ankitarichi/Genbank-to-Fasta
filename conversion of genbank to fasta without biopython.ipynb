{
 "cells": [
  {
   "cell_type": "code",
   "execution_count": 5,
   "metadata": {},
   "outputs": [
    {
     "name": "stdout",
     "output_type": "stream",
     "text": [
      "DEFINITION  F25D1-T7 IGF Arabidopsis thaliana genomic clone F25D1, genomic survey sequence.\n",
      "\n"
     ]
    }
   ],
   "source": [
    "#Opening the genbank file and printing the definition line \n",
    "filename='genbankfile.gb'  # genbank file\n",
    "for line in open(filename,'r'): #opening the genbank file in read mode\n",
    "    rec=line.strip()   #read the content line wise\n",
    "    if(rec.startswith('DEFINITION')):  #if a particular line starts with the string DEFINITION\n",
    "        file=open(\"fastafile.fasta\",\"w\")   #opens a fasta file in write mode\n",
    "        file.write(line) #writing the definition line in the file \n",
    "        print(line)  #after writing to the file print the particular line\n",
    "        file.close() #close the file"
   ]
  },
  {
   "cell_type": "code",
   "execution_count": 6,
   "metadata": {},
   "outputs": [
    {
     "name": "stdout",
     "output_type": "stream",
     "text": [
      "\n",
      "\n"
     ]
    }
   ],
   "source": [
    "with open ('genbankfile.gb', 'rt') as in_file:\n",
    "    contents = in_file.read() #reading the contents of the file\n",
    "    print(line)"
   ]
  },
  {
   "cell_type": "code",
   "execution_count": 7,
   "metadata": {},
   "outputs": [],
   "source": [
    "import re\n",
    "start = 'ORIGIN'\n",
    "end = '//'\n",
    "line1 =contents.strip()\n",
    "line1.replace(\" \",\"\")\n",
    "line1 = re.sub(\"\\d+\", \" \", line1)\n",
    "line1 = re.sub(r\"\\s+\", \"\", line1, flags=re.UNICODE)\n",
    "line1=line1.rstrip()\n",
    "contents=contents[contents.find(start)+len(start):contents.rfind(end)]\n",
    "#print(contents)\n",
    "contents=contents.strip()\n",
    "contents=contents.replace(\" \",\"\")\n",
    "contents=re.sub(\"\\d+\", \" \", contents)\n",
    "contents = re.sub(r\"\\s+\", \"\", contents, flags=re.UNICODE)\n",
    "contents=contents.rstrip()"
   ]
  },
  {
   "cell_type": "code",
   "execution_count": 8,
   "metadata": {},
   "outputs": [
    {
     "name": "stdout",
     "output_type": "stream",
     "text": [
      "tgancggccgtacctttatggtccatgtccgattcttacccnacttttcccannnttacgcacaaccaaccccnctacttcttacccactattgattgattggaaaagagctctctgctttatcttatctttggtcttctatctctgctggagcgtcacattctttctttctttccgtcgactcagtttagtggaaaatccgtggggatcattggtctaggtagaattgggactgccatcgcaaagagggctgaagcctttagctgcccaatcaattactactcaagaaccattaagcctgatgtcgcctacaagtattatccgacggtggttgaccttgctcaaaactcagacatcctcgtcgtcgcatgcccgttgaccgagcagaccagacacattgtggaccggcaggtcatggatgcattaggagctaagggcgtcctcataaacattggccgtggaccacatgttgatgagcaagagcttattaaagctctaacagaaggccgcctangtggggctgcccttgatgtgtttgagcaggagcctcacgtgcccgaggagctctttggccttgagaatgtagttctcctccctcacgttgggagtggcactgtggaaacacggaatgccatggccgatcttgncgggggtaacttgtaagcgccg\n"
     ]
    }
   ],
   "source": [
    "print(contents)"
   ]
  },
  {
   "cell_type": "code",
   "execution_count": 9,
   "metadata": {},
   "outputs": [],
   "source": [
    "f=open(\"fastafile.fasta\", \"a+\") #opening the file in append mode\n",
    "f.write(\"\\n\") #printing next line in the file\n",
    "for contents in contents.strip():\n",
    "    f.write(contents)\n",
    "f.close()    \n",
    "        "
   ]
  },
  {
   "cell_type": "code",
   "execution_count": 10,
   "metadata": {},
   "outputs": [],
   "source": [
    "infile = \"fastafile.fasta\"\n",
    "outfile = \"fastafile1.fasta\"\n",
    "\n",
    "delete_list = [\"DEFINITION  \"]  #searching for definition string and deleting it from the file\n",
    "fin = open(infile)\n",
    "fout = open(outfile, \"w+\")\n",
    "for line in fin:\n",
    "    for word in delete_list:\n",
    "        line = line.replace(word, \"\")\n",
    "    fout.write(line)\n",
    "fin.close()\n",
    "fout.close()"
   ]
  },
  {
   "cell_type": "code",
   "execution_count": null,
   "metadata": {},
   "outputs": [],
   "source": []
  },
  {
   "cell_type": "code",
   "execution_count": null,
   "metadata": {},
   "outputs": [],
   "source": []
  },
  {
   "cell_type": "code",
   "execution_count": null,
   "metadata": {},
   "outputs": [],
   "source": []
  },
  {
   "cell_type": "code",
   "execution_count": null,
   "metadata": {},
   "outputs": [],
   "source": []
  }
 ],
 "metadata": {
  "kernelspec": {
   "display_name": "Python 3",
   "language": "python",
   "name": "python3"
  },
  "language_info": {
   "codemirror_mode": {
    "name": "ipython",
    "version": 3
   },
   "file_extension": ".py",
   "mimetype": "text/x-python",
   "name": "python",
   "nbconvert_exporter": "python",
   "pygments_lexer": "ipython3",
   "version": "3.7.1"
  }
 },
 "nbformat": 4,
 "nbformat_minor": 2
}
